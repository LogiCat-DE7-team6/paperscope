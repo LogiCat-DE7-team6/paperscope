{
 "cells": [
  {
   "cell_type": "markdown",
   "id": "b10e8bad",
   "metadata": {},
   "source": [
    "# OpenAlex API"
   ]
  },
  {
   "cell_type": "code",
   "execution_count": 1,
   "id": "835a601e",
   "metadata": {},
   "outputs": [],
   "source": [
    "import requests\n",
    "import json"
   ]
  },
  {
   "cell_type": "code",
   "execution_count": null,
   "id": "a3ca6542",
   "metadata": {},
   "outputs": [],
   "source": [
    "example_url_with_cursor = 'https://api.openalex.org/works?filter=from_publication_date:2025-10-01,to_publication_date:2025-10-22,topics.field.id:17&per-page=200&cursor={}'\n",
    "cursor = '*'\n",
    "\n",
    "filename = \"data.json\"\n",
    "result_list = []\n",
    "\n",
    "while cursor:\n",
    "    # 현재 커서 확인\n",
    "    print('\\n' , f'cursor: {cursor}')    \n",
    "    url = example_url_with_cursor.format(cursor)\n",
    "    page_with_results = requests.get(url).json()\n",
    "\n",
    "    # data 리스트 저장\n",
    "    results = page_with_results['results']\n",
    "    result_list.extend(results)\n",
    "\n",
    "    # 커서 변환\n",
    "    cursor = page_with_results['meta']['next_cursor']\n",
    "\n",
    "# json파일 저장\n",
    "with open(filename, \"w\", encoding=\"utf-8\") as f:\n",
    "    json.dump(result_list, f, indent=2, ensure_ascii=False)"
   ]
  }
 ],
 "metadata": {
  "kernelspec": {
   "display_name": ".venv",
   "language": "python",
   "name": "python3"
  },
  "language_info": {
   "codemirror_mode": {
    "name": "ipython",
    "version": 3
   },
   "file_extension": ".py",
   "mimetype": "text/x-python",
   "name": "python",
   "nbconvert_exporter": "python",
   "pygments_lexer": "ipython3",
   "version": "3.14.0"
  }
 },
 "nbformat": 4,
 "nbformat_minor": 5
}
