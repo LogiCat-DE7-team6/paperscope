{
 "cells": [
  {
   "cell_type": "code",
   "execution_count": 1,
   "id": "04ce3e76",
   "metadata": {},
   "outputs": [],
   "source": [
    "import requests\n",
    "import time\n",
    "import pandas as pd"
   ]
  },
  {
   "cell_type": "code",
   "execution_count": 12,
   "id": "387ab03e",
   "metadata": {},
   "outputs": [],
   "source": [
    "topic_id = 17 # Computer Science Concept ID\n",
    "start_date = \"2025-08-21\"\n",
    "end_date = \"2025-09-10\"\n",
    "mailto = \"kominji68@gmail.com\"\n",
    "base_url = \"https://api.openalex.org/works\"\n",
    "max_per_page = 200"
   ]
  },
  {
   "cell_type": "code",
   "execution_count": 13,
   "id": "9445d177",
   "metadata": {},
   "outputs": [
    {
     "name": "stdout",
     "output_type": "stream",
     "text": [
      "총 39721개의 논문이 검색되었습니다.\n"
     ]
    }
   ],
   "source": [
    "all_works = []\n",
    "next_cursor = '*'\n",
    "total_results = None\n",
    "filters = f\"from_publication_date:{start_date},to_publication_date:{end_date},topics.field.id:{topic_id}\"\n",
    "\n",
    "while next_cursor:\n",
    "    params = {\n",
    "        'filter': filters,\n",
    "        'per_page': max_per_page,\n",
    "        'cursor': next_cursor,\n",
    "        'mailto': mailto\n",
    "    }\n",
    "    try:\n",
    "        response = requests.get(base_url, params=params)\n",
    "        response.raise_for_status()\n",
    "        data = response.json()\n",
    "        \n",
    "        if total_results is None:\n",
    "            total_results = data.get('meta', {}).get('count', 0)\n",
    "            print(f\"총 {total_results}개의 논문이 검색되었습니다.\")\n",
    "        \n",
    "        works = data.get('results', [])\n",
    "        if not works:\n",
    "            break\n",
    "        \n",
    "        all_works.extend(works)\n",
    "        next_cursor = data.get('meta', {}).get('next_cursor')\n",
    "        time.sleep(0.1)\n",
    "        \n",
    "    except requests.exceptions.RequestException as e:\n",
    "        print(f\"API 요청 중 오류 발생: {e}\")\n",
    "        break"
   ]
  },
  {
   "cell_type": "code",
   "execution_count": 14,
   "id": "6fc5246f",
   "metadata": {},
   "outputs": [],
   "source": [
    "import json\n",
    "\n",
    "# all_works를 papers.json으로 저장\n",
    "with open('papers.json', 'w', encoding='utf-8') as f:\n",
    "    json.dump(all_works, f, ensure_ascii=False, indent=4)"
   ]
  }
 ],
 "metadata": {
  "kernelspec": {
   "display_name": "Python 3 (ipykernel)",
   "language": "python",
   "name": "python3"
  }
 },
 "nbformat": 4,
 "nbformat_minor": 5
}
