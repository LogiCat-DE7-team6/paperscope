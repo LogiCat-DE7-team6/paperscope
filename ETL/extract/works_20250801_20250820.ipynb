{
 "cells": [
  {
   "cell_type": "code",
   "execution_count": 1,
   "id": "05a15c87",
   "metadata": {},
   "outputs": [],
   "source": [
    "from pyalex import Works, Authors, Sources, Institutions, Topics, Publishers, Funders"
   ]
  },
  {
   "cell_type": "code",
   "execution_count": 2,
   "id": "a8b51b4b",
   "metadata": {},
   "outputs": [],
   "source": [
    "import pyalex\n",
    "pyalex.config.email = \"sosoj1552@gmail.com\""
   ]
  },
  {
   "cell_type": "code",
   "execution_count": 4,
   "id": "670e0a77",
   "metadata": {},
   "outputs": [
    {
     "data": {
      "text/plain": [
       "37079"
      ]
     },
     "execution_count": 4,
     "metadata": {},
     "output_type": "execute_result"
    }
   ],
   "source": [
    "Works()\\\n",
    "    .filter(from_publication_date=\"2025-08-01\")\\\n",
    "    .filter(to_publication_date=\"2025-08-20\")\\\n",
    "    .filter(topics={\"field\": {\"id\":'17'}})\\\n",
    "    .count()"
   ]
  },
  {
   "cell_type": "markdown",
   "id": "990f4535",
   "metadata": {},
   "source": [
    "# Cursor paging\n",
    "- ```cursor=*```"
   ]
  },
  {
   "cell_type": "code",
   "execution_count": 6,
   "id": "1b1f7b5b",
   "metadata": {},
   "outputs": [],
   "source": [
    "query = Works()\\\n",
    "    .filter(from_publication_date=\"2025-08-01\")\\\n",
    "    .filter(to_publication_date=\"2025-08-20\")\\\n",
    "    .filter(topics={\"field\": {\"id\":'17'}})"
   ]
  },
  {
   "cell_type": "code",
   "execution_count": 7,
   "id": "9636134b",
   "metadata": {},
   "outputs": [
    {
     "data": {
      "text/plain": [
       "37079"
      ]
     },
     "execution_count": 7,
     "metadata": {},
     "output_type": "execute_result"
    }
   ],
   "source": [
    "query.count()"
   ]
  },
  {
   "cell_type": "code",
   "execution_count": 8,
   "id": "ab238de2",
   "metadata": {},
   "outputs": [
    {
     "name": "stdout",
     "output_type": "stream",
     "text": [
      "Now results ... 200\n",
      "Now results ... 400\n",
      "Now results ... 600\n",
      "Now results ... 800\n",
      "Now results ... 1000\n",
      "Now results ... 1200\n",
      "Now results ... 1400\n",
      "Now results ... 1600\n",
      "Now results ... 1800\n",
      "Now results ... 2000\n",
      "Now results ... 2200\n",
      "Now results ... 2400\n",
      "Now results ... 2600\n",
      "Now results ... 2800\n",
      "Now results ... 3000\n",
      "Now results ... 3200\n",
      "Now results ... 3400\n",
      "Now results ... 3600\n",
      "Now results ... 3800\n",
      "Now results ... 4000\n",
      "Now results ... 4200\n",
      "Now results ... 4400\n",
      "Now results ... 4600\n",
      "Now results ... 4800\n",
      "Now results ... 5000\n",
      "Now results ... 5200\n",
      "Now results ... 5400\n",
      "Now results ... 5600\n",
      "Now results ... 5800\n",
      "Now results ... 6000\n",
      "Now results ... 6200\n",
      "Now results ... 6400\n",
      "Now results ... 6600\n",
      "Now results ... 6800\n",
      "Now results ... 7000\n",
      "Now results ... 7200\n",
      "Now results ... 7400\n",
      "Now results ... 7600\n",
      "Now results ... 7800\n",
      "Now results ... 8000\n",
      "Now results ... 8200\n",
      "Now results ... 8400\n",
      "Now results ... 8600\n",
      "Now results ... 8800\n",
      "Now results ... 9000\n",
      "Now results ... 9200\n",
      "Now results ... 9400\n",
      "Now results ... 9600\n",
      "Now results ... 9800\n",
      "Now results ... 10000\n",
      "Now results ... 10200\n",
      "Now results ... 10400\n",
      "Now results ... 10600\n",
      "Now results ... 10800\n",
      "Now results ... 11000\n",
      "Now results ... 11200\n",
      "Now results ... 11400\n",
      "Now results ... 11600\n",
      "Now results ... 11800\n",
      "Now results ... 12000\n",
      "Now results ... 12200\n",
      "Now results ... 12400\n",
      "Now results ... 12600\n",
      "Now results ... 12800\n",
      "Now results ... 13000\n",
      "Now results ... 13200\n",
      "Now results ... 13400\n",
      "Now results ... 13600\n",
      "Now results ... 13800\n",
      "Now results ... 14000\n",
      "Now results ... 14200\n",
      "Now results ... 14400\n",
      "Now results ... 14600\n",
      "Now results ... 14800\n",
      "Now results ... 15000\n",
      "Now results ... 15200\n",
      "Now results ... 15400\n",
      "Now results ... 15600\n",
      "Now results ... 15800\n",
      "Now results ... 16000\n",
      "Now results ... 16200\n",
      "Now results ... 16400\n",
      "Now results ... 16600\n",
      "Now results ... 16800\n",
      "Now results ... 17000\n",
      "Now results ... 17200\n",
      "Now results ... 17400\n",
      "Now results ... 17600\n",
      "Now results ... 17800\n",
      "Now results ... 18000\n",
      "Now results ... 18200\n",
      "Now results ... 18400\n",
      "Now results ... 18600\n",
      "Now results ... 18800\n",
      "Now results ... 19000\n",
      "Now results ... 19200\n",
      "Now results ... 19400\n",
      "Now results ... 19600\n",
      "Now results ... 19800\n",
      "Now results ... 20000\n",
      "Now results ... 20200\n",
      "Now results ... 20400\n",
      "Now results ... 20600\n",
      "Now results ... 20800\n",
      "Now results ... 21000\n",
      "Now results ... 21200\n",
      "Now results ... 21400\n",
      "Now results ... 21600\n",
      "Now results ... 21800\n",
      "Now results ... 22000\n",
      "Now results ... 22200\n",
      "Now results ... 22400\n",
      "Now results ... 22600\n",
      "Now results ... 22800\n",
      "Now results ... 23000\n",
      "Now results ... 23200\n",
      "Now results ... 23400\n",
      "Now results ... 23600\n",
      "Now results ... 23800\n",
      "Now results ... 24000\n",
      "Now results ... 24200\n",
      "Now results ... 24400\n",
      "Now results ... 24600\n",
      "Now results ... 24800\n",
      "Now results ... 25000\n",
      "Now results ... 25200\n",
      "Now results ... 25400\n",
      "Now results ... 25600\n",
      "Now results ... 25800\n",
      "Now results ... 26000\n",
      "Now results ... 26200\n",
      "Now results ... 26400\n",
      "Now results ... 26600\n",
      "Now results ... 26800\n",
      "Now results ... 27000\n",
      "Now results ... 27200\n",
      "Now results ... 27400\n",
      "Now results ... 27600\n",
      "Now results ... 27800\n",
      "Now results ... 28000\n",
      "Now results ... 28200\n",
      "Now results ... 28400\n",
      "Now results ... 28600\n",
      "Now results ... 28800\n",
      "Now results ... 29000\n",
      "Now results ... 29200\n",
      "Now results ... 29400\n",
      "Now results ... 29600\n",
      "Now results ... 29800\n",
      "Now results ... 30000\n",
      "Now results ... 30200\n",
      "Now results ... 30400\n",
      "Now results ... 30600\n",
      "Now results ... 30800\n",
      "Now results ... 31000\n",
      "Now results ... 31200\n",
      "Now results ... 31400\n",
      "Now results ... 31600\n",
      "Now results ... 31800\n",
      "Now results ... 32000\n",
      "Now results ... 32200\n",
      "Now results ... 32400\n",
      "Now results ... 32600\n",
      "Now results ... 32800\n",
      "Now results ... 33000\n",
      "Now results ... 33200\n",
      "Now results ... 33400\n",
      "Now results ... 33600\n",
      "Now results ... 33800\n",
      "Now results ... 34000\n",
      "Now results ... 34200\n",
      "Now results ... 34400\n",
      "Now results ... 34600\n",
      "Now results ... 34800\n",
      "Now results ... 35000\n",
      "Now results ... 35200\n",
      "Now results ... 35400\n",
      "Now results ... 35600\n",
      "Now results ... 35800\n",
      "Now results ... 36000\n",
      "Now results ... 36200\n",
      "Now results ... 36400\n",
      "Now results ... 36600\n",
      "Now results ... 36800\n",
      "Now results ... 37000\n",
      "Now results ... 37079\n",
      "Now results ... 37079\n"
     ]
    }
   ],
   "source": [
    "results = []\n",
    "next_cursor = \"*\"\n",
    "while next_cursor is not None:\n",
    "    r = query.get(per_page=200, cursor=next_cursor)\n",
    "    results.extend(r)\n",
    "    next_cursor = r.meta[\"next_cursor\"]\n",
    "    print(f\"Now results ... {len(results)}\")"
   ]
  },
  {
   "cell_type": "code",
   "execution_count": null,
   "id": "c8c293dd",
   "metadata": {},
   "outputs": [],
   "source": [
    "import json\n",
    "with open(\"works_20250801_20250820.json\", \"w\", encoding='utf-8') as f:\n",
    "    json.dump(results, f, ensure_ascii=False, indent=4)"
   ]
  }
 ],
 "metadata": {
  "kernelspec": {
   "display_name": ".Redshift_PJT",
   "language": "python",
   "name": "python3"
  },
  "language_info": {
   "codemirror_mode": {
    "name": "ipython",
    "version": 3
   },
   "file_extension": ".py",
   "mimetype": "text/x-python",
   "name": "python",
   "nbconvert_exporter": "python",
   "pygments_lexer": "ipython3",
   "version": "3.11.9"
  }
 },
 "nbformat": 4,
 "nbformat_minor": 5
}
