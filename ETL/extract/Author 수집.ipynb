{
 "cells": [
  {
   "cell_type": "code",
   "execution_count": 2,
   "id": "cb6b0254",
   "metadata": {},
   "outputs": [],
   "source": [
    "import os\n",
    "import json\n",
    "import pandas as pd\n",
    "from tqdm import tqdm\n",
    "from pyalex import Authors\n",
    "import time"
   ]
  },
  {
   "cell_type": "code",
   "execution_count": null,
   "id": "71c5729e",
   "metadata": {},
   "outputs": [],
   "source": [
    "import pyalex\n",
    "\n",
    "pyalex.config.email = \"sosoj1552@gmail.com\""
   ]
  },
  {
   "cell_type": "markdown",
   "id": "d9b35dc8",
   "metadata": {},
   "source": [
    "# Extract : Json 파일 "
   ]
  },
  {
   "cell_type": "code",
   "execution_count": 4,
   "id": "75a58d8a",
   "metadata": {},
   "outputs": [],
   "source": [
    "res_wa_df = pd.read_csv(\"./transform_csv_data/work_author.csv\")"
   ]
  },
  {
   "cell_type": "code",
   "execution_count": 6,
   "id": "adaf1130",
   "metadata": {},
   "outputs": [
    {
     "name": "stdout",
     "output_type": "stream",
     "text": [
      "Total count of distinct author = 454053\n",
      "# chunks = 4541\n"
     ]
    }
   ],
   "source": [
    "unique_author = res_wa_df.author_id.unique().tolist()\n",
    "chunk_size = 100 # ValueError: OpenAlex does not support more than 100 ids\n",
    "chunked_author = [unique_author[i : i+chunk_size] for i in range(0, len(unique_author), chunk_size)]\n",
    "\n",
    "print(f\"Total count of distinct author = {len(unique_author)}\")\n",
    "print(f\"# chunks = {len(chunked_author)}\")"
   ]
  },
  {
   "cell_type": "code",
   "execution_count": 8,
   "id": "336f1168",
   "metadata": {},
   "outputs": [
    {
     "name": "stderr",
     "output_type": "stream",
     "text": [
      "801it [52:20,  4.15s/it]"
     ]
    },
    {
     "name": "stdout",
     "output_type": "stream",
     "text": [
      "\tSaved part 1 (80054 records)\n"
     ]
    },
    {
     "name": "stderr",
     "output_type": "stream",
     "text": [
      "1223it [1:22:35,  4.38s/it]"
     ]
    },
    {
     "name": "stdout",
     "output_type": "stream",
     "text": [
      "\tError 발생 (1/5) - 5초 대기 후 재시도...\n"
     ]
    },
    {
     "name": "stderr",
     "output_type": "stream",
     "text": [
      "1307it [1:29:03,  4.27s/it]"
     ]
    },
    {
     "name": "stdout",
     "output_type": "stream",
     "text": [
      "\tError 발생 (1/5) - 5초 대기 후 재시도...\n"
     ]
    },
    {
     "name": "stderr",
     "output_type": "stream",
     "text": [
      "1603it [1:52:34,  5.10s/it]"
     ]
    },
    {
     "name": "stdout",
     "output_type": "stream",
     "text": [
      "\tSaved part 2 (80049 records)\n"
     ]
    },
    {
     "name": "stderr",
     "output_type": "stream",
     "text": [
      "2405it [2:50:35,  4.18s/it]"
     ]
    },
    {
     "name": "stdout",
     "output_type": "stream",
     "text": [
      "\tSaved part 3 (80063 records)\n"
     ]
    },
    {
     "name": "stderr",
     "output_type": "stream",
     "text": [
      "3207it [3:42:45,  3.48s/it]"
     ]
    },
    {
     "name": "stdout",
     "output_type": "stream",
     "text": [
      "\tSaved part 4 (80059 records)\n"
     ]
    },
    {
     "name": "stderr",
     "output_type": "stream",
     "text": [
      "4009it [4:34:09,  3.55s/it]"
     ]
    },
    {
     "name": "stdout",
     "output_type": "stream",
     "text": [
      "\tSaved part 5 (80031 records)\n"
     ]
    },
    {
     "name": "stderr",
     "output_type": "stream",
     "text": [
      "4541it [5:08:22,  4.07s/it]\n"
     ]
    },
    {
     "name": "stdout",
     "output_type": "stream",
     "text": [
      "\tSaved final part 6 (52968 records)\n"
     ]
    }
   ],
   "source": [
    "part_num = 1\n",
    "max_retries = 5\n",
    "\n",
    "results = []\n",
    "save_path = \"./raw_json_data/authors_based_works\"\n",
    "\n",
    "for i, chunk in tqdm(enumerate(chunked_author)):\n",
    "    success = False\n",
    "    retry_count = 0\n",
    "    \n",
    "    while not success and retry_count < max_retries:\n",
    "        try : \n",
    "            r_a = Authors()[chunk]\n",
    "            results.extend(r_a)\n",
    "            success = True  # 성공 시 반복 종료\n",
    "        except Exception as e:\n",
    "            retry_count += 1\n",
    "            wait_time = 5 * retry_count  # 점진적으로 대기 시간 증가\n",
    "            print(f\"\\tError 발생 ({retry_count}/{max_retries}) - {wait_time}초 대기 후 재시도...\")\n",
    "            time.sleep(wait_time)\n",
    "\n",
    "    if not success:\n",
    "        print(f\"[@@@] chunk {i} 처리 실패 - 다음 chunk로 넘어감.\")\n",
    "        continue\n",
    "        \n",
    "    if len(results) >= 80000:\n",
    "        with open(f\"{save_path}/part{part_num}.json\", \"w\", encoding=\"utf-8\") as f:\n",
    "            json.dump(results, f, ensure_ascii=False, indent=2)\n",
    "        print(f\"\\tSaved part {part_num} ({len(results)} records)\")\n",
    "        part_num += 1\n",
    "        results = []\n",
    "    time.sleep(1)\n",
    "    \n",
    "# 마지막 남은 데이터도 저장\n",
    "if results:\n",
    "    with open(f\"{save_path}/part{part_num}.json\", \"w\", encoding=\"utf-8\") as f:\n",
    "            json.dump(results, f, ensure_ascii=False, indent=2)\n",
    "    print(f\"\\tSaved final part {part_num} ({len(results)} records)\")"
   ]
  },
  {
   "cell_type": "markdown",
   "id": "4d439874",
   "metadata": {},
   "source": [
    "# Transform : 필요한 정보만 csv로 저장"
   ]
  },
  {
   "cell_type": "code",
   "execution_count": 2,
   "id": "24a7fd75",
   "metadata": {},
   "outputs": [
    {
     "name": "stdout",
     "output_type": "stream",
     "text": [
      "['part1.json', 'part2.json', 'part3.json', 'part4.json', 'part5.json', 'part6.json']\n",
      "./raw_json_data/authors_based_works\\part1.json\n",
      "./raw_json_data/authors_based_works\\part2.json\n",
      "./raw_json_data/authors_based_works\\part3.json\n",
      "./raw_json_data/authors_based_works\\part4.json\n",
      "./raw_json_data/authors_based_works\\part5.json\n",
      "./raw_json_data/authors_based_works\\part6.json\n"
     ]
    }
   ],
   "source": [
    "work_data_path = \"./raw_json_data/authors_based_works\"\n",
    "print(os.listdir(work_data_path))\n",
    "for filename in os.listdir(work_data_path):\n",
    "    full_filename = os.path.join(work_data_path, filename)\n",
    "    print(full_filename)"
   ]
  },
  {
   "cell_type": "code",
   "execution_count": 17,
   "id": "2d2b9959",
   "metadata": {},
   "outputs": [],
   "source": [
    "import os\n",
    "import json\n",
    "import pandas as pd\n",
    "from tqdm import tqdm\n",
    "import ijson"
   ]
  },
  {
   "cell_type": "code",
   "execution_count": 18,
   "id": "fd9f757d",
   "metadata": {},
   "outputs": [
    {
     "name": "stdout",
     "output_type": "stream",
     "text": [
      "['part1.json', 'part2.json', 'part3.json', 'part4.json', 'part5.json', 'part6.json']\n"
     ]
    }
   ],
   "source": [
    "work_data_path = \"./raw_json_data/authors_based_works\"\n",
    "print(os.listdir(work_data_path))"
   ]
  },
  {
   "cell_type": "code",
   "execution_count": 19,
   "id": "f57307fa",
   "metadata": {},
   "outputs": [
    {
     "name": "stderr",
     "output_type": "stream",
     "text": [
      "100%|██████████| 6/6 [01:45<00:00, 17.62s/it]\n"
     ]
    }
   ],
   "source": [
    "all_authors = []\n",
    "for filename in tqdm(os.listdir(work_data_path)):\n",
    "    full_filename = os.path.join(work_data_path, filename)\n",
    "    \n",
    "    with open(full_filename, 'r', encoding='utf-8') as f:\n",
    "        objects = ijson.items(f, \"item\")\n",
    "        \n",
    "        for d in objects :\n",
    "            if d['last_known_institutions'] == [] :\n",
    "                lki = None\n",
    "            else :\n",
    "                lki = d['last_known_institutions'][0]['id'].split('/')[-1].strip()\n",
    "            \n",
    "            author = (d['id'].split('/')[-1].strip(), d['display_name'], d['orcid'], d['works_count'], d['cited_by_count'], lki)\n",
    "            all_authors.append(author)\n",
    "    \n",
    "author_df = pd.DataFrame(all_authors, columns=['author_id', 'author_name', 'orcid', 'works_count', 'cited_by_count', 'institution_id'])"
   ]
  },
  {
   "cell_type": "code",
   "execution_count": 20,
   "id": "92886cbc",
   "metadata": {},
   "outputs": [
    {
     "data": {
      "text/plain": [
       "(453224, 6)"
      ]
     },
     "execution_count": 20,
     "metadata": {},
     "output_type": "execute_result"
    }
   ],
   "source": [
    "author_df.shape"
   ]
  },
  {
   "cell_type": "code",
   "execution_count": 21,
   "id": "d531430c",
   "metadata": {},
   "outputs": [
    {
     "data": {
      "text/html": [
       "<div>\n",
       "<style scoped>\n",
       "    .dataframe tbody tr th:only-of-type {\n",
       "        vertical-align: middle;\n",
       "    }\n",
       "\n",
       "    .dataframe tbody tr th {\n",
       "        vertical-align: top;\n",
       "    }\n",
       "\n",
       "    .dataframe thead th {\n",
       "        text-align: right;\n",
       "    }\n",
       "</style>\n",
       "<table border=\"1\" class=\"dataframe\">\n",
       "  <thead>\n",
       "    <tr style=\"text-align: right;\">\n",
       "      <th></th>\n",
       "      <th>author_id</th>\n",
       "      <th>author_name</th>\n",
       "      <th>orcid</th>\n",
       "      <th>works_count</th>\n",
       "      <th>cited_by_count</th>\n",
       "      <th>institution_id</th>\n",
       "    </tr>\n",
       "  </thead>\n",
       "  <tbody>\n",
       "    <tr>\n",
       "      <th>0</th>\n",
       "      <td>A5022764544</td>\n",
       "      <td>Jian Ping Gong</td>\n",
       "      <td>https://orcid.org/0000-0003-2228-2750</td>\n",
       "      <td>803</td>\n",
       "      <td>41033</td>\n",
       "      <td>I4210136497</td>\n",
       "    </tr>\n",
       "    <tr>\n",
       "      <th>1</th>\n",
       "      <td>A5057784648</td>\n",
       "      <td>Shinya Tanaka</td>\n",
       "      <td>https://orcid.org/0000-0001-6470-3301</td>\n",
       "      <td>750</td>\n",
       "      <td>18477</td>\n",
       "      <td>I60134161</td>\n",
       "    </tr>\n",
       "    <tr>\n",
       "      <th>2</th>\n",
       "      <td>A5100637638</td>\n",
       "      <td>Feng Ding</td>\n",
       "      <td>https://orcid.org/0000-0002-2721-2025</td>\n",
       "      <td>719</td>\n",
       "      <td>28316</td>\n",
       "      <td>I4210105877</td>\n",
       "    </tr>\n",
       "    <tr>\n",
       "      <th>3</th>\n",
       "      <td>A5000921316</td>\n",
       "      <td>Bruce G. Pollock</td>\n",
       "      <td>https://orcid.org/0000-0003-0802-3998</td>\n",
       "      <td>697</td>\n",
       "      <td>29893</td>\n",
       "      <td>I1338135719</td>\n",
       "    </tr>\n",
       "    <tr>\n",
       "      <th>4</th>\n",
       "      <td>A5067842712</td>\n",
       "      <td>Yu Shrike Zhang</td>\n",
       "      <td>https://orcid.org/0000-0002-0045-0808</td>\n",
       "      <td>584</td>\n",
       "      <td>40019</td>\n",
       "      <td>I4210157861</td>\n",
       "    </tr>\n",
       "  </tbody>\n",
       "</table>\n",
       "</div>"
      ],
      "text/plain": [
       "     author_id       author_name                                  orcid  \\\n",
       "0  A5022764544    Jian Ping Gong  https://orcid.org/0000-0003-2228-2750   \n",
       "1  A5057784648     Shinya Tanaka  https://orcid.org/0000-0001-6470-3301   \n",
       "2  A5100637638         Feng Ding  https://orcid.org/0000-0002-2721-2025   \n",
       "3  A5000921316  Bruce G. Pollock  https://orcid.org/0000-0003-0802-3998   \n",
       "4  A5067842712   Yu Shrike Zhang  https://orcid.org/0000-0002-0045-0808   \n",
       "\n",
       "   works_count  cited_by_count institution_id  \n",
       "0          803           41033    I4210136497  \n",
       "1          750           18477      I60134161  \n",
       "2          719           28316    I4210105877  \n",
       "3          697           29893    I1338135719  \n",
       "4          584           40019    I4210157861  "
      ]
     },
     "execution_count": 21,
     "metadata": {},
     "output_type": "execute_result"
    }
   ],
   "source": [
    "author_df.head()"
   ]
  },
  {
   "cell_type": "code",
   "execution_count": 23,
   "id": "5fb3a323",
   "metadata": {},
   "outputs": [],
   "source": [
    "author_df.to_csv(\"./transform_csv_data/author.csv\", index=False, encoding='utf-8')"
   ]
  }
 ],
 "metadata": {
  "kernelspec": {
   "display_name": ".Redshift_PJT",
   "language": "python",
   "name": "python3"
  },
  "language_info": {
   "codemirror_mode": {
    "name": "ipython",
    "version": 3
   },
   "file_extension": ".py",
   "mimetype": "text/x-python",
   "name": "python",
   "nbconvert_exporter": "python",
   "pygments_lexer": "ipython3",
   "version": "3.11.9"
  }
 },
 "nbformat": 4,
 "nbformat_minor": 5
}
