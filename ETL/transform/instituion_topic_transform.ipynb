{
 "cells": [
  {
   "cell_type": "markdown",
   "id": "244f6ae3",
   "metadata": {},
   "source": [
    "# JSON데이터 CSV 변환"
   ]
  },
  {
   "cell_type": "code",
   "execution_count": null,
   "id": "b000bdef",
   "metadata": {
    "vscode": {
     "languageId": "powershell"
    }
   },
   "outputs": [],
   "source": [
    "pip install pandas"
   ]
  },
  {
   "cell_type": "code",
   "execution_count": null,
   "id": "cf63c3c3",
   "metadata": {},
   "outputs": [],
   "source": [
    "# 라이브러리 로드\n",
    "import json\n",
    "import logging\n",
    "import pandas as pd"
   ]
  },
  {
   "cell_type": "code",
   "execution_count": null,
   "id": "7e4e0358",
   "metadata": {},
   "outputs": [],
   "source": [
    "# 로깅\n",
    "logging.basicConfig(level=logging.ERROR,\n",
    "                    format='%(asctime)s - %(name)s - %(levelname)s - %(message)s',\n",
    "                    filename='error.log',\n",
    "                    filemode='a')\n",
    "logger = logging.getLogger(__name__)"
   ]
  },
  {
   "cell_type": "code",
   "execution_count": null,
   "id": "06f153c9",
   "metadata": {},
   "outputs": [],
   "source": [
    "# 데이터 변환 메소드\n",
    "def convert_raw_data_to_csv(file_name: str, id_selector: str, fields: dict, delimiter: str = None):\n",
    "    '''\n",
    "    ## json파일을 읽고 처리하여 csv파일로 저장하는 함수\\n\n",
    "    args: \\n\n",
    "    file_name: 파일명 \\n\n",
    "    id_selector: 전처리를위한 id 이름(work_id일경우 id_selector => work) \\n\n",
    "    fields: csv에 사용 될 필드명의 딕셔너리 \\n\n",
    "    delimiter: 구분자가 ','가 아닐시 원하는 delimiter. -> '|', '`'등 사용 가능하다 \\n\n",
    "    retrun: 첫행에 field가 적혀진 csv 파일\n",
    "    '''\n",
    "\n",
    "    # 파일 불러오기 및 저장\n",
    "    input_file = file_name\n",
    "    if delimiter:\n",
    "        output_file = f'{file_name}'[:-5] + '_with_delimiter.csv'\n",
    "    else:\n",
    "        output_file = f'{file_name}'[:-5] + '.csv'\n",
    "\n",
    "    # load 할 때 파일 크기가 클 경우 에러발생시 예외처리\n",
    "    try:\n",
    "        with open(input_file, 'r', encoding=\"utf-8\") as f:\n",
    "            raw_data = json.load(f)\n",
    "    except Exception as e:\n",
    "        print(\"파일 로드시 에러가 발생했습니다. 로그를 확인해주세요\")\n",
    "        logger.exception(str(e))\n",
    "        return\n",
    "\n",
    "    # csv 파일 생성 부분\n",
    "    try:\n",
    "        df = pd.json_normalize(raw_data)\n",
    "        selected_fields = fields\n",
    "\n",
    "        # 필드 존재 여부 확인 (없는 경우 무시)\n",
    "        existing_fields = {k: v for k, v in selected_fields.items() if k in df.columns}\n",
    "\n",
    "        # 선택한 필드만 추출\n",
    "        filtered_df = df[list(existing_fields.keys())].rename(columns=existing_fields)\n",
    "\n",
    "        # id 전처리 부분\n",
    "        if f'{id_selector}_id' in filtered_df.columns:\n",
    "            filtered_df[f'{id_selector}_id'] = filtered_df[f'{id_selector}_id'].astype(str).apply(lambda x: x[21:])\n",
    "        else:\n",
    "            filtered_df = df[list(existing_fields.keys())].rename(columns=existing_fields)\n",
    "\n",
    "        # csv로 저장\n",
    "        if delimiter:\n",
    "            filtered_df.to_csv(output_file, index=False, sep=delimiter, encoding=\"utf-8-sig\")\n",
    "            print(\"delimiter 파일 생성 완료\")\n",
    "        else:\n",
    "            filtered_df.to_csv(output_file, index=False)\n",
    "            print(\"delimiter 없는 파일 생성 완료\")\n",
    "\n",
    "    except Exception as e:\n",
    "        print(\"데이터 변환시 오류발생. 로그를 확인해주세요\")\n",
    "        logger.exception(str(e))\n",
    "        \n",
    "    return "
   ]
  },
  {
   "cell_type": "code",
   "execution_count": null,
   "id": "d06880f5",
   "metadata": {},
   "outputs": [],
   "source": [
    "# topic JSON 데이터 변환\n",
    "file_name = \"topic.json\"\n",
    "id_selector = \"topic\"\n",
    "fields = {\n",
    "    \"id\": \"topic_id\", \n",
    "    \"display_name\": \"topic\", \n",
    "    \"domain.display_name\": \"domain\", \n",
    "    \"field.display_name\": \"filed\", \n",
    "    \"subfield.display_name\": \"subfield\",\n",
    "    \"works_count\": \"works_count\",\n",
    "    \"cited_by_count\": \"cited_by_count\"\n",
    "    }"
   ]
  },
  {
   "cell_type": "code",
   "execution_count": null,
   "id": "7c90879f",
   "metadata": {},
   "outputs": [],
   "source": [
    "# Institution 데이터 변환\n",
    "file_name = \"institution.json\"\n",
    "id_selector = \"institution\"\n",
    "fields = {\n",
    "    \"id\": \"institution_id\",\n",
    "    \"display_name\": \"institution_name\",\n",
    "    \"country_code\": \"country_code\",\n",
    "    \"type\": \"type\",\n",
    "    \"geo.latitude\": \"geo_lat\",\n",
    "    \"geo.longitude\": \"geo_lon\",\n",
    "    \"works_count\": \"works_count\",\n",
    "    \"cited_by_count\": \"cited_by_count\"\n",
    "}"
   ]
  },
  {
   "cell_type": "code",
   "execution_count": null,
   "id": "2dc7dbd4",
   "metadata": {},
   "outputs": [],
   "source": [
    "convert_raw_data_to_csv(file_name=file_name, id_selector=id_selector, fields=fields)\n",
    "# convert_raw_data_to_csv(file_name=file_name, id_selector=id_selector, fields=fields, delimiter='`')"
   ]
  }
 ],
 "metadata": {
  "language_info": {
   "name": "python"
  }
 },
 "nbformat": 4,
 "nbformat_minor": 5
}
