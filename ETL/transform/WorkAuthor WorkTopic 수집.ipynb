{
 "cells": [
  {
   "cell_type": "code",
   "execution_count": 1,
   "id": "b6003c50",
   "metadata": {},
   "outputs": [],
   "source": [
    "\n",
    "import os\n",
    "import json\n",
    "import pandas as pd\n",
    "from tqdm import tqdm\n",
    "from pyalex import Authors"
   ]
  },
  {
   "cell_type": "code",
   "execution_count": null,
   "id": "4048c9c0",
   "metadata": {},
   "outputs": [],
   "source": [
    "import pyalex\n",
    "\n",
    "pyalex.config.email = \"sosoj1552@gmailc.com\""
   ]
  },
  {
   "cell_type": "markdown",
   "id": "d2cf18c5",
   "metadata": {},
   "source": [
    "# Work의 Author 정보를 수집한다\n",
    "1. 수집된 Work 데이터를 기준으로 WorkAuthor, WordTopic 데이터 생성\n",
    "2. WorkAuthor의 Author ID를 distinct 하기\n"
   ]
  },
  {
   "cell_type": "code",
   "execution_count": 68,
   "id": "2f51df83",
   "metadata": {},
   "outputs": [
    {
     "name": "stdout",
     "output_type": "stream",
     "text": [
      "['works_20250801_20250820.json', 'works_20250821_20250910.json', 'works_20250911_20250930.json', 'works_20251001_20251022.json']\n",
      "./raw_json_data\\works_20250801_20250820.json\n",
      "./raw_json_data\\works_20250821_20250910.json\n",
      "./raw_json_data\\works_20250911_20250930.json\n",
      "./raw_json_data\\works_20251001_20251022.json\n"
     ]
    }
   ],
   "source": [
    "work_data_path = \"./raw_json_data\"\n",
    "print(os.listdir(work_data_path))\n",
    "for filename in os.listdir(work_data_path):\n",
    "    full_filename = os.path.join(work_data_path, filename)\n",
    "    print(full_filename)\n"
   ]
  },
  {
   "cell_type": "markdown",
   "id": "d3c98dc2",
   "metadata": {},
   "source": [
    "## WorkAuthor, WorkTopic : CSV 저장"
   ]
  },
  {
   "cell_type": "code",
   "execution_count": 90,
   "id": "02809e3b",
   "metadata": {},
   "outputs": [],
   "source": [
    "def get_author_topic(data):\n",
    "    wa_lst = []\n",
    "    wt_lst  = []\n",
    "    for d in data:\n",
    "        work_id = d.get('id').split('/')[-1].strip()\n",
    "        if d['authorships'] == [] :\n",
    "            # 저자 정보가 없다면 None값으로 우선 추가\n",
    "            authors = [(work_id, None, None), ]\n",
    "        else :\n",
    "            authors = [(work_id, a['author']['id'].split('/')[-1].strip(), a['author_position']) for a in d['authorships']]\n",
    "        \n",
    "        if d['topics'] == [] :\n",
    "            topics = [(work_id, None, None, None),]\n",
    "        else :\n",
    "            topics  = [(work_id, t['id'].split('/')[-1].strip(), t['score'], i+1) for i, t in enumerate(d['topics'])]\n",
    "        \n",
    "        wa_lst.extend(authors)\n",
    "        wt_lst.extend(topics)\n",
    "    return wa_lst, wt_lst"
   ]
  },
  {
   "cell_type": "code",
   "execution_count": 91,
   "id": "f99979be",
   "metadata": {},
   "outputs": [
    {
     "name": "stdout",
     "output_type": "stream",
     "text": [
      "['works_20250801_20250820.json', 'works_20250821_20250910.json', 'works_20250911_20250930.json', 'works_20251001_20251022.json']\n"
     ]
    },
    {
     "name": "stderr",
     "output_type": "stream",
     "text": [
      "100%|██████████| 4/4 [01:08<00:00, 17.21s/it]\n"
     ]
    }
   ],
   "source": [
    "work_data_path = \"./raw_json_data\"\n",
    "print(os.listdir(work_data_path))\n",
    "\n",
    "all_was = []\n",
    "all_wts = []\n",
    "for filename in tqdm(os.listdir(work_data_path)):\n",
    "    full_filename = os.path.join(work_data_path, filename)\n",
    "    \n",
    "    with open(full_filename, 'r', encoding='utf-8') as f:\n",
    "        data = json.load(f)\n",
    "    # works 데이터에서 Author, Topic 정보 추출\n",
    "    was, wts = get_author_topic(data)\n",
    "    \n",
    "    all_was.extend(was)\n",
    "    all_wts.extend(wts)\n",
    "    \n",
    "wa_df = pd.DataFrame(all_was, columns=['work_id', 'author_id', 'author_position'])\n",
    "wt_df = pd.DataFrame(all_wts, columns=['work_id', 'topic_id', 'score', 'order'])"
   ]
  },
  {
   "cell_type": "code",
   "execution_count": 92,
   "id": "981072d4",
   "metadata": {},
   "outputs": [
    {
     "data": {
      "text/plain": [
       "(556195, 3)"
      ]
     },
     "execution_count": 92,
     "metadata": {},
     "output_type": "execute_result"
    }
   ],
   "source": [
    "wa_df.shape"
   ]
  },
  {
   "cell_type": "code",
   "execution_count": 97,
   "id": "0048c63f",
   "metadata": {},
   "outputs": [
    {
     "data": {
      "text/html": [
       "<div>\n",
       "<style scoped>\n",
       "    .dataframe tbody tr th:only-of-type {\n",
       "        vertical-align: middle;\n",
       "    }\n",
       "\n",
       "    .dataframe tbody tr th {\n",
       "        vertical-align: top;\n",
       "    }\n",
       "\n",
       "    .dataframe thead th {\n",
       "        text-align: right;\n",
       "    }\n",
       "</style>\n",
       "<table border=\"1\" class=\"dataframe\">\n",
       "  <thead>\n",
       "    <tr style=\"text-align: right;\">\n",
       "      <th></th>\n",
       "      <th>work_id</th>\n",
       "      <th>author_id</th>\n",
       "      <th>author_position</th>\n",
       "    </tr>\n",
       "  </thead>\n",
       "  <tbody>\n",
       "    <tr>\n",
       "      <th>0</th>\n",
       "      <td>W2419652933</td>\n",
       "      <td>A5037478520</td>\n",
       "      <td>first</td>\n",
       "    </tr>\n",
       "    <tr>\n",
       "      <th>1</th>\n",
       "      <td>W2419652933</td>\n",
       "      <td>A5037119672</td>\n",
       "      <td>middle</td>\n",
       "    </tr>\n",
       "    <tr>\n",
       "      <th>2</th>\n",
       "      <td>W2419652933</td>\n",
       "      <td>A5112156725</td>\n",
       "      <td>middle</td>\n",
       "    </tr>\n",
       "    <tr>\n",
       "      <th>3</th>\n",
       "      <td>W2419652933</td>\n",
       "      <td>A5000921316</td>\n",
       "      <td>last</td>\n",
       "    </tr>\n",
       "    <tr>\n",
       "      <th>4</th>\n",
       "      <td>W63003660</td>\n",
       "      <td>A5041929088</td>\n",
       "      <td>first</td>\n",
       "    </tr>\n",
       "  </tbody>\n",
       "</table>\n",
       "</div>"
      ],
      "text/plain": [
       "       work_id    author_id author_position\n",
       "0  W2419652933  A5037478520           first\n",
       "1  W2419652933  A5037119672          middle\n",
       "2  W2419652933  A5112156725          middle\n",
       "3  W2419652933  A5000921316            last\n",
       "4    W63003660  A5041929088           first"
      ]
     },
     "execution_count": 97,
     "metadata": {},
     "output_type": "execute_result"
    }
   ],
   "source": [
    "wa_df.head()"
   ]
  },
  {
   "cell_type": "code",
   "execution_count": 100,
   "id": "f7e992bb",
   "metadata": {},
   "outputs": [
    {
     "name": "stdout",
     "output_type": "stream",
     "text": [
      "수집된 논문 수 : 147036\n",
      "저자 정보가 없는 논문 수 : 4242\n"
     ]
    }
   ],
   "source": [
    "print(f\"수집된 논문 수 : {wa_df.work_id.nunique()}\")\n",
    "print(f\"저자 정보가 없는 논문 수 : {wa_df[wa_df['author_id'].isnull()].work_id.nunique()}\")"
   ]
  },
  {
   "cell_type": "code",
   "execution_count": null,
   "id": "71bec3be",
   "metadata": {},
   "outputs": [],
   "source": [
    "# 저자 정보가 있는 논문 저장\n",
    "wa_df[~wa_df['author_id'].isnull()]\\\n",
    "        .to_csv(\"./transform_csv_data/work_author.csv\", index=False, encoding='utf-8')\n",
    "\n",
    "# 저자 정보가 없는 논문 저장\n",
    "wa_df[wa_df['author_id'].isnull()]\\\n",
    "        .to_csv(\"./transform_csv_data/tmp_work_without_author_.csv\", index=False, encoding='utf-8')"
   ]
  },
  {
   "cell_type": "code",
   "execution_count": 93,
   "id": "c6db6913",
   "metadata": {},
   "outputs": [
    {
     "data": {
      "text/plain": [
       "(392206, 4)"
      ]
     },
     "execution_count": 93,
     "metadata": {},
     "output_type": "execute_result"
    }
   ],
   "source": [
    "wt_df.shape"
   ]
  },
  {
   "cell_type": "code",
   "execution_count": 96,
   "id": "b9bf67ed",
   "metadata": {},
   "outputs": [
    {
     "data": {
      "text/html": [
       "<div>\n",
       "<style scoped>\n",
       "    .dataframe tbody tr th:only-of-type {\n",
       "        vertical-align: middle;\n",
       "    }\n",
       "\n",
       "    .dataframe tbody tr th {\n",
       "        vertical-align: top;\n",
       "    }\n",
       "\n",
       "    .dataframe thead th {\n",
       "        text-align: right;\n",
       "    }\n",
       "</style>\n",
       "<table border=\"1\" class=\"dataframe\">\n",
       "  <thead>\n",
       "    <tr style=\"text-align: right;\">\n",
       "      <th></th>\n",
       "      <th>work_id</th>\n",
       "      <th>topic_id</th>\n",
       "      <th>score</th>\n",
       "      <th>order</th>\n",
       "    </tr>\n",
       "  </thead>\n",
       "  <tbody>\n",
       "    <tr>\n",
       "      <th>0</th>\n",
       "      <td>W2419652933</td>\n",
       "      <td>T10211</td>\n",
       "      <td>0.9208</td>\n",
       "      <td>1</td>\n",
       "    </tr>\n",
       "    <tr>\n",
       "      <th>1</th>\n",
       "      <td>W63003660</td>\n",
       "      <td>T13816</td>\n",
       "      <td>0.6802</td>\n",
       "      <td>1</td>\n",
       "    </tr>\n",
       "    <tr>\n",
       "      <th>2</th>\n",
       "      <td>W63003660</td>\n",
       "      <td>T13983</td>\n",
       "      <td>0.6758</td>\n",
       "      <td>2</td>\n",
       "    </tr>\n",
       "    <tr>\n",
       "      <th>3</th>\n",
       "      <td>W4413247502</td>\n",
       "      <td>T10136</td>\n",
       "      <td>0.9969</td>\n",
       "      <td>1</td>\n",
       "    </tr>\n",
       "    <tr>\n",
       "      <th>4</th>\n",
       "      <td>W4413247502</td>\n",
       "      <td>T12814</td>\n",
       "      <td>0.9965</td>\n",
       "      <td>2</td>\n",
       "    </tr>\n",
       "  </tbody>\n",
       "</table>\n",
       "</div>"
      ],
      "text/plain": [
       "       work_id topic_id   score  order\n",
       "0  W2419652933   T10211  0.9208      1\n",
       "1    W63003660   T13816  0.6802      1\n",
       "2    W63003660   T13983  0.6758      2\n",
       "3  W4413247502   T10136  0.9969      1\n",
       "4  W4413247502   T12814  0.9965      2"
      ]
     },
     "execution_count": 96,
     "metadata": {},
     "output_type": "execute_result"
    }
   ],
   "source": [
    "wt_df.head()"
   ]
  },
  {
   "cell_type": "code",
   "execution_count": 103,
   "id": "19ca191b",
   "metadata": {},
   "outputs": [
    {
     "name": "stdout",
     "output_type": "stream",
     "text": [
      "수집된 논문 수 : 147036\n",
      "토픽 정보가 없는 논문 수 : 0\n"
     ]
    }
   ],
   "source": [
    "print(f\"수집된 논문 수 : {wt_df.work_id.nunique()}\")\n",
    "print(f\"토픽 정보가 없는 논문 수 : {wt_df[wt_df['topic_id'].isnull()].work_id.nunique()}\")"
   ]
  },
  {
   "cell_type": "code",
   "execution_count": 109,
   "id": "31ec5a17",
   "metadata": {},
   "outputs": [],
   "source": [
    "# 저자-토픽\n",
    "wt_df\\\n",
    "    .to_csv(\"./transform_csv_data/work_topic.csv\", index=False, encoding='utf-8')"
   ]
  }
 ],
 "metadata": {
  "kernelspec": {
   "display_name": ".Redshift_PJT",
   "language": "python",
   "name": "python3"
  },
  "language_info": {
   "codemirror_mode": {
    "name": "ipython",
    "version": 3
   },
   "file_extension": ".py",
   "mimetype": "text/x-python",
   "name": "python",
   "nbconvert_exporter": "python",
   "pygments_lexer": "ipython3",
   "version": "3.11.9"
  }
 },
 "nbformat": 4,
 "nbformat_minor": 5
}
